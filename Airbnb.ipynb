{
 "cells": [
  {
   "cell_type": "code",
   "execution_count": 37,
   "metadata": {},
   "outputs": [],
   "source": [
    "# Imports\n",
    "\n",
    "# pandas\n",
    "import pandas as pd\n",
    "from pandas import Series,DataFrame\n",
    "\n",
    "# numpy, matplotlib, seaborn\n",
    "import numpy as np\n",
    "import matplotlib.pyplot as plt\n",
    "import seaborn as sns\n",
    "sns.set_style('whitegrid')\n",
    "%matplotlib inline\n",
    "\n",
    "# machine learning\n",
    "from sklearn.linear_model import LogisticRegression\n",
    "from sklearn.svm import SVC, LinearSVC\n",
    "from sklearn.ensemble import RandomForestClassifier\n",
    "from sklearn.neighbors import KNeighborsClassifier\n",
    "from sklearn.naive_bayes import GaussianNB\n",
    "from sklearn import cross_validation\n",
    "\n"
   ]
  },
  {
   "cell_type": "code",
   "execution_count": 38,
   "metadata": {
    "scrolled": true
   },
   "outputs": [
    {
     "data": {
      "text/html": [
       "<div>\n",
       "<style>\n",
       "    .dataframe thead tr:only-child th {\n",
       "        text-align: right;\n",
       "    }\n",
       "\n",
       "    .dataframe thead th {\n",
       "        text-align: left;\n",
       "    }\n",
       "\n",
       "    .dataframe tbody tr th {\n",
       "        vertical-align: top;\n",
       "    }\n",
       "</style>\n",
       "<table border=\"1\" class=\"dataframe\">\n",
       "  <thead>\n",
       "    <tr style=\"text-align: right;\">\n",
       "      <th></th>\n",
       "      <th>id</th>\n",
       "      <th>date_account_created</th>\n",
       "      <th>timestamp_first_active</th>\n",
       "      <th>date_first_booking</th>\n",
       "      <th>gender</th>\n",
       "      <th>age</th>\n",
       "      <th>signup_method</th>\n",
       "      <th>signup_flow</th>\n",
       "      <th>language</th>\n",
       "      <th>affiliate_channel</th>\n",
       "      <th>affiliate_provider</th>\n",
       "      <th>first_affiliate_tracked</th>\n",
       "      <th>signup_app</th>\n",
       "      <th>first_device_type</th>\n",
       "      <th>first_browser</th>\n",
       "      <th>country_destination</th>\n",
       "    </tr>\n",
       "  </thead>\n",
       "  <tbody>\n",
       "    <tr>\n",
       "      <th>0</th>\n",
       "      <td>gxn3p5htnn</td>\n",
       "      <td>2010-06-28</td>\n",
       "      <td>20090319043255</td>\n",
       "      <td>NaN</td>\n",
       "      <td>-unknown-</td>\n",
       "      <td>NaN</td>\n",
       "      <td>facebook</td>\n",
       "      <td>0</td>\n",
       "      <td>en</td>\n",
       "      <td>direct</td>\n",
       "      <td>direct</td>\n",
       "      <td>untracked</td>\n",
       "      <td>Web</td>\n",
       "      <td>Mac Desktop</td>\n",
       "      <td>Chrome</td>\n",
       "      <td>NDF</td>\n",
       "    </tr>\n",
       "    <tr>\n",
       "      <th>1</th>\n",
       "      <td>820tgsjxq7</td>\n",
       "      <td>2011-05-25</td>\n",
       "      <td>20090523174809</td>\n",
       "      <td>NaN</td>\n",
       "      <td>MALE</td>\n",
       "      <td>38.0</td>\n",
       "      <td>facebook</td>\n",
       "      <td>0</td>\n",
       "      <td>en</td>\n",
       "      <td>seo</td>\n",
       "      <td>google</td>\n",
       "      <td>untracked</td>\n",
       "      <td>Web</td>\n",
       "      <td>Mac Desktop</td>\n",
       "      <td>Chrome</td>\n",
       "      <td>NDF</td>\n",
       "    </tr>\n",
       "    <tr>\n",
       "      <th>2</th>\n",
       "      <td>4ft3gnwmtx</td>\n",
       "      <td>2010-09-28</td>\n",
       "      <td>20090609231247</td>\n",
       "      <td>2010-08-02</td>\n",
       "      <td>FEMALE</td>\n",
       "      <td>56.0</td>\n",
       "      <td>basic</td>\n",
       "      <td>3</td>\n",
       "      <td>en</td>\n",
       "      <td>direct</td>\n",
       "      <td>direct</td>\n",
       "      <td>untracked</td>\n",
       "      <td>Web</td>\n",
       "      <td>Windows Desktop</td>\n",
       "      <td>IE</td>\n",
       "      <td>US</td>\n",
       "    </tr>\n",
       "    <tr>\n",
       "      <th>3</th>\n",
       "      <td>bjjt8pjhuk</td>\n",
       "      <td>2011-12-05</td>\n",
       "      <td>20091031060129</td>\n",
       "      <td>2012-09-08</td>\n",
       "      <td>FEMALE</td>\n",
       "      <td>42.0</td>\n",
       "      <td>facebook</td>\n",
       "      <td>0</td>\n",
       "      <td>en</td>\n",
       "      <td>direct</td>\n",
       "      <td>direct</td>\n",
       "      <td>untracked</td>\n",
       "      <td>Web</td>\n",
       "      <td>Mac Desktop</td>\n",
       "      <td>Firefox</td>\n",
       "      <td>other</td>\n",
       "    </tr>\n",
       "    <tr>\n",
       "      <th>4</th>\n",
       "      <td>87mebub9p4</td>\n",
       "      <td>2010-09-14</td>\n",
       "      <td>20091208061105</td>\n",
       "      <td>2010-02-18</td>\n",
       "      <td>-unknown-</td>\n",
       "      <td>41.0</td>\n",
       "      <td>basic</td>\n",
       "      <td>0</td>\n",
       "      <td>en</td>\n",
       "      <td>direct</td>\n",
       "      <td>direct</td>\n",
       "      <td>untracked</td>\n",
       "      <td>Web</td>\n",
       "      <td>Mac Desktop</td>\n",
       "      <td>Chrome</td>\n",
       "      <td>US</td>\n",
       "    </tr>\n",
       "  </tbody>\n",
       "</table>\n",
       "</div>"
      ],
      "text/plain": [
       "           id date_account_created  timestamp_first_active date_first_booking  \\\n",
       "0  gxn3p5htnn           2010-06-28          20090319043255                NaN   \n",
       "1  820tgsjxq7           2011-05-25          20090523174809                NaN   \n",
       "2  4ft3gnwmtx           2010-09-28          20090609231247         2010-08-02   \n",
       "3  bjjt8pjhuk           2011-12-05          20091031060129         2012-09-08   \n",
       "4  87mebub9p4           2010-09-14          20091208061105         2010-02-18   \n",
       "\n",
       "      gender   age signup_method  signup_flow language affiliate_channel  \\\n",
       "0  -unknown-   NaN      facebook            0       en            direct   \n",
       "1       MALE  38.0      facebook            0       en               seo   \n",
       "2     FEMALE  56.0         basic            3       en            direct   \n",
       "3     FEMALE  42.0      facebook            0       en            direct   \n",
       "4  -unknown-  41.0         basic            0       en            direct   \n",
       "\n",
       "  affiliate_provider first_affiliate_tracked signup_app first_device_type  \\\n",
       "0             direct               untracked        Web       Mac Desktop   \n",
       "1             google               untracked        Web       Mac Desktop   \n",
       "2             direct               untracked        Web   Windows Desktop   \n",
       "3             direct               untracked        Web       Mac Desktop   \n",
       "4             direct               untracked        Web       Mac Desktop   \n",
       "\n",
       "  first_browser country_destination  \n",
       "0        Chrome                 NDF  \n",
       "1        Chrome                 NDF  \n",
       "2            IE                  US  \n",
       "3       Firefox               other  \n",
       "4        Chrome                  US  "
      ]
     },
     "execution_count": 38,
     "metadata": {},
     "output_type": "execute_result"
    }
   ],
   "source": [
    "# get airbnb & test csv files as a DataFrame\n",
    "airbnb_df  = pd.read_csv(\"train_users_2.csv\")\n",
    "test_df    = pd.read_csv(\"test_users.csv\")\n",
    "\n",
    "# preview the data\n",
    "airbnb_df.head()"
   ]
  },
  {
   "cell_type": "code",
   "execution_count": 39,
   "metadata": {},
   "outputs": [
    {
     "name": "stdout",
     "output_type": "stream",
     "text": [
      "<class 'pandas.core.frame.DataFrame'>\n",
      "RangeIndex: 213451 entries, 0 to 213450\n",
      "Data columns (total 16 columns):\n",
      "id                         213451 non-null object\n",
      "date_account_created       213451 non-null object\n",
      "timestamp_first_active     213451 non-null int64\n",
      "date_first_booking         88908 non-null object\n",
      "gender                     213451 non-null object\n",
      "age                        125461 non-null float64\n",
      "signup_method              213451 non-null object\n",
      "signup_flow                213451 non-null int64\n",
      "language                   213451 non-null object\n",
      "affiliate_channel          213451 non-null object\n",
      "affiliate_provider         213451 non-null object\n",
      "first_affiliate_tracked    207386 non-null object\n",
      "signup_app                 213451 non-null object\n",
      "first_device_type          213451 non-null object\n",
      "first_browser              213451 non-null object\n",
      "country_destination        213451 non-null object\n",
      "dtypes: float64(1), int64(2), object(13)\n",
      "memory usage: 26.1+ MB\n",
      "----------------------------\n",
      "<class 'pandas.core.frame.DataFrame'>\n",
      "RangeIndex: 62096 entries, 0 to 62095\n",
      "Data columns (total 15 columns):\n",
      "id                         62096 non-null object\n",
      "date_account_created       62096 non-null object\n",
      "timestamp_first_active     62096 non-null int64\n",
      "date_first_booking         0 non-null float64\n",
      "gender                     62096 non-null object\n",
      "age                        33220 non-null float64\n",
      "signup_method              62096 non-null object\n",
      "signup_flow                62096 non-null int64\n",
      "language                   62096 non-null object\n",
      "affiliate_channel          62096 non-null object\n",
      "affiliate_provider         62096 non-null object\n",
      "first_affiliate_tracked    62076 non-null object\n",
      "signup_app                 62096 non-null object\n",
      "first_device_type          62096 non-null object\n",
      "first_browser              62096 non-null object\n",
      "dtypes: float64(2), int64(2), object(11)\n",
      "memory usage: 7.1+ MB\n"
     ]
    }
   ],
   "source": [
    "airbnb_df.info()\n",
    "print(\"----------------------------\")\n",
    "test_df.info()"
   ]
  },
  {
   "cell_type": "code",
   "execution_count": 40,
   "metadata": {
    "collapsed": true
   },
   "outputs": [],
   "source": [
    "# drop unnecessary columns, these columns won't be useful in analysis and prediction\n",
    "airbnb_df  = airbnb_df.drop(['date_account_created','timestamp_first_active'], axis=1)\n",
    "test_df    = test_df.drop(['date_account_created','timestamp_first_active'], axis=1)"
   ]
  },
  {
   "cell_type": "code",
   "execution_count": 41,
   "metadata": {},
   "outputs": [
    {
     "data": {
      "text/plain": [
       "<matplotlib.axes._subplots.AxesSubplot at 0x7f63d2020cf8>"
      ]
     },
     "execution_count": 41,
     "metadata": {},
     "output_type": "execute_result"
    },
    {
     "data": {
      "image/png": "[encoded data removed]",
      "text/plain": [
       "<matplotlib.figure.Figure at 0x7f63d202b518>"
      ]
     },
     "metadata": {},
     "output_type": "display_data"
    }
   ],
   "source": [
    "# country_destination\n",
    "\n",
    "airbnb_df['booked'] = (airbnb_df['country_destination'] != 'NDF').astype(int)\n",
    "# test_df['booked']   = (test_df['country_destination'] != 'NDF').astype(int)\n",
    "\n",
    "# Plot the frequency for every country_destination value\n",
    "fig, (axis1) = plt.subplots(1,1,figsize=(15,5))\n",
    "sns.countplot(x='country_destination', data=airbnb_df, palette=\"husl\", ax=axis1)"
   ]
  },
  {
   "cell_type": "code",
   "execution_count": 42,
   "metadata": {},
   "outputs": [
    {
     "data": {
      "image/png": "[encoded data removed]",
      "text/plain": [
       "<matplotlib.figure.Figure at 0x7f63c9225128>"
      ]
     },
     "metadata": {},
     "output_type": "display_data"
    }
   ],
   "source": [
    "# date_first_booking\n",
    "\n",
    "def get_year(date):\n",
    "    if date == date:\n",
    "        return int(str(date)[:4])\n",
    "    return date\n",
    "\n",
    "def get_month(date):\n",
    "    if date == date:\n",
    "        return int(str(date)[5:7])\n",
    "    return date\n",
    "\n",
    "#Create year and month columns\n",
    "airbnb_df['Year'] = airbnb_df['date_first_booking'].apply(get_year)\n",
    "airbnb_df['Month'] = airbnb_df['date_first_booking'].apply(get_month)\n",
    "\n",
    "#apply the same logic to test data\n",
    "test_df['Year']  = test_df['date_first_booking'].apply(get_year)\n",
    "test_df['Month'] = test_df['date_first_booking'].apply(get_month)\n",
    "\n",
    "# fill NaN values of both the columns with median\n",
    "airbnb_df['Year'].fillna(airbnb_df['Year'].median(), inplace=True)\n",
    "airbnb_df['Month'].fillna(airbnb_df['Month'].median(), inplace=True)\n",
    "\n",
    "test_df['Year'].fillna(test_df['Year'].median(), inplace=True)\n",
    "test_df['Month'].fillna(test_df['Month'].median(), inplace=True)\n",
    "\n",
    "test_df['Year']\n",
    "test_df['Month']\n",
    "\n",
    "airbnb_df['Year']\n",
    "airbnb_df['Month']\n",
    "\n",
    "\n",
    "\n",
    "\n",
    "# convert type to integer for both test and train data\n",
    "airbnb_df['Year'] = airbnb_df['Year'].astype(int)\n",
    "airbnb_df['Month']   = airbnb_df['Month'].astype(int)\n",
    "\n",
    "\n",
    "\n",
    "# test_df['Year'] = test_df['Year'].astype(int)\n",
    "\n",
    "# test_df['Month']   = test_df['Month'].astype(int)\n",
    "\n",
    "\n",
    "# test_df[['Year', 'Month']]   = test_df[['Year', 'Month']].astype(int)\n",
    "# test_df[['Year', 'Month']]   = test_df[['Year', 'Month']].astype(int)\n",
    "\n",
    "\n",
    "\n",
    "\n",
    "\n",
    "# Plot\n",
    "fig, (axis1, axis2) = plt.subplots(2,1,sharex=True,figsize=(15,8))\n",
    "\n",
    "\n",
    "\n",
    "\n",
    "# frequency of country_destination for every year\n",
    "sns.countplot(x=\"Year\",hue=\"country_destination\", data=airbnb_df[airbnb_df['country_destination'] != 'NDF'], palette=\"husl\", ax=axis1)\n",
    "\n",
    "# frequency of booked Vs no-booking users for every year\n",
    "# NOTICE that in year 2014, and 2015 there wasn't \"no-booking\"\n",
    "sns.countplot(x=\"Year\",hue=\"booked\", data=airbnb_df, palette=\"husl\", order=[2010,2011,2012,2013,2014,2015], ax=axis2)\n",
    "\n",
    "# drop columns\n",
    "airbnb_df.drop(['date_first_booking','Month'], axis=1, inplace=True)\n",
    "# test_df.drop(['date_first_booking','Month'], axis=1, inplace=True)\n"
   ]
  },
  {
   "cell_type": "code",
   "execution_count": 43,
   "metadata": {},
   "outputs": [
    {
     "data": {
      "image/png": "[encoded data removed]",
      "text/plain": [
       "<matplotlib.figure.Figure at 0x7f63d1f85a90>"
      ]
     },
     "metadata": {},
     "output_type": "display_data"
    }
   ],
   "source": [
    "# gender\n",
    "\n",
    "i = 0\n",
    "def get_gender(gender):\n",
    "    global i\n",
    "    if gender != 'FEMALE' and gender != 'MALE':\n",
    "        return 'FEMALE' if(i % 2) else 'MALE'\n",
    "    i = i + 1\n",
    "    return gender\n",
    "\n",
    "# replace all values other than 'FEMALE' and 'MALE'\n",
    "airbnb_df['gender'] = airbnb_df['gender'].apply(get_gender)\n",
    "test_df['gender']   = test_df['gender'].apply(get_gender)\n",
    "\n",
    "# Plot\n",
    "fig, (axis1, axis2) = plt.subplots(2,1,sharex=True,figsize=(15,8))\n",
    "\n",
    "# frequency of country_destination for every gender\n",
    "sns.countplot(x=\"gender\",hue=\"country_destination\", data=airbnb_df[airbnb_df['country_destination'] != 'NDF'], palette=\"husl\", ax=axis1)\n",
    "\n",
    "# frequency of booked Vs no-booking users for every gender\n",
    "sns.countplot(x=\"gender\",hue=\"booked\", data=airbnb_df, palette=\"husl\", ax=axis2)\n",
    "\n",
    "# Map gender values to 1s and 0s\n",
    "airbnb_df[\"gender\"] = airbnb_df[\"gender\"].map({\"FEMALE\": 1, \"MALE\": 0})\n",
    "test_df[\"gender\"]   = test_df[\"gender\"].map({\"FEMALE\": 1, \"MALE\": 0})\n",
    "\n",
    "# drop columns\n",
    "airbnb_df.drop(['gender'], axis=1,inplace=True)\n",
    "test_df.drop(['gender'], axis=1,inplace=True)"
   ]
  },
  {
   "cell_type": "code",
   "execution_count": 44,
   "metadata": {},
   "outputs": [
    {
     "name": "stderr",
     "output_type": "stream",
     "text": [
      "/home/vijay/anaconda3/lib/python3.6/site-packages/ipykernel_launcher.py:4: SettingWithCopyWarning: \n",
      "A value is trying to be set on a copy of a slice from a DataFrame\n",
      "\n",
      "See the caveats in the documentation: http://pandas.pydata.org/pandas-docs/stable/indexing.html#indexing-view-versus-copy\n",
      "  after removing the cwd from sys.path.\n",
      "/home/vijay/anaconda3/lib/python3.6/site-packages/ipykernel_launcher.py:5: SettingWithCopyWarning: \n",
      "A value is trying to be set on a copy of a slice from a DataFrame\n",
      "\n",
      "See the caveats in the documentation: http://pandas.pydata.org/pandas-docs/stable/indexing.html#indexing-view-versus-copy\n",
      "  \"\"\"\n",
      "/home/vijay/anaconda3/lib/python3.6/site-packages/ipykernel_launcher.py:22: SettingWithCopyWarning: \n",
      "A value is trying to be set on a copy of a slice from a DataFrame\n",
      "\n",
      "See the caveats in the documentation: http://pandas.pydata.org/pandas-docs/stable/indexing.html#indexing-view-versus-copy\n",
      "/home/vijay/anaconda3/lib/python3.6/site-packages/ipykernel_launcher.py:23: SettingWithCopyWarning: \n",
      "A value is trying to be set on a copy of a slice from a DataFrame\n",
      "\n",
      "See the caveats in the documentation: http://pandas.pydata.org/pandas-docs/stable/indexing.html#indexing-view-versus-copy\n"
     ]
    }
   ],
   "source": [
    "# age\n",
    "\n",
    "# assign all age values > 100 to NaN, these NaN values will be replaced with real ages below\n",
    "airbnb_df[\"age\"][airbnb_df[\"age\"] > 100] = np.NaN\n",
    "test_df[\"age\"][test_df[\"age\"] > 100]     = np.NaN\n",
    "\n",
    "# get average, std, and number of NaN values in airbnb_df\n",
    "average_age_airbnb   = airbnb_df[\"age\"].mean()\n",
    "std_age_airbnb       = airbnb_df[\"age\"].std()\n",
    "count_nan_age_airbnb = airbnb_df[\"age\"].isnull().sum()\n",
    "\n",
    "# get average, std, and number of NaN values in test_df\n",
    "average_age_test   = test_df[\"age\"].mean()\n",
    "std_age_test       = test_df[\"age\"].std()\n",
    "count_nan_age_test = test_df[\"age\"].isnull().sum()\n",
    "\n",
    "# generate random numbers between (mean - std) & (mean + std)\n",
    "rand_1 = np.random.randint(average_age_airbnb - std_age_airbnb, average_age_airbnb + std_age_airbnb, size = count_nan_age_airbnb)\n",
    "rand_2 = np.random.randint(average_age_test - std_age_test, average_age_test + std_age_test, size = count_nan_age_test)\n",
    "\n",
    "# fill NaN values in Age column with random values generated\n",
    "airbnb_df[\"age\"][np.isnan(airbnb_df[\"age\"])] = rand_1\n",
    "test_df[\"age\"][np.isnan(test_df[\"age\"])]     = rand_2\n",
    "\n",
    "# convert type to integer\n",
    "airbnb_df['age'] = airbnb_df['age'].astype(int)\n",
    "test_df['age']   = test_df['age'].astype(int)"
   ]
  },
  {
   "cell_type": "code",
   "execution_count": 45,
   "metadata": {},
   "outputs": [
    {
     "data": {
      "image/png": "[encoded data removed]",
      "text/plain": [
       "<matplotlib.figure.Figure at 0x7f63c6af07f0>"
      ]
     },
     "metadata": {},
     "output_type": "display_data"
    }
   ],
   "source": [
    "# .... continue with age\n",
    "\n",
    "# Plot\n",
    "fig, (axis1, axis2) = plt.subplots(2,1,figsize=(15,10))\n",
    "\n",
    "# frequency for age values(in case there was a booking)\n",
    "airbnb_df['age'][airbnb_df['country_destination'] != 'NDF'].hist(ax=axis1)\n",
    "\n",
    "# cut age values into ranges \n",
    "airbnb_df['age_range'] = pd.cut(airbnb_df[\"age\"], [0, 20, 40, 60, 80, 100])\n",
    "\n",
    "# frequency of country_destination for every age range\n",
    "sns.countplot(x=\"age_range\",hue=\"country_destination\", data=airbnb_df[airbnb_df['country_destination'] != 'NDF'], palette=\"husl\", ax=axis2)\n",
    "\n",
    "# drop age_range\n",
    "airbnb_df.drop(['age_range'], axis=1, inplace=True)\n",
    "\n",
    "# drop columns\n",
    "airbnb_df.drop(['age'], axis=1,inplace=True)\n",
    "test_df.drop(['age'], axis=1,inplace=True)"
   ]
  },
  {
   "cell_type": "code",
   "execution_count": 46,
   "metadata": {},
   "outputs": [
    {
     "name": "stderr",
     "output_type": "stream",
     "text": [
      "/home/vijay/anaconda3/lib/python3.6/site-packages/ipykernel_launcher.py:15: SettingWithCopyWarning: \n",
      "A value is trying to be set on a copy of a slice from a DataFrame\n",
      "\n",
      "See the caveats in the documentation: http://pandas.pydata.org/pandas-docs/stable/indexing.html#indexing-view-versus-copy\n",
      "  from ipykernel import kernelapp as app\n",
      "/home/vijay/anaconda3/lib/python3.6/site-packages/ipykernel_launcher.py:16: SettingWithCopyWarning: \n",
      "A value is trying to be set on a copy of a slice from a DataFrame\n",
      "\n",
      "See the caveats in the documentation: http://pandas.pydata.org/pandas-docs/stable/indexing.html#indexing-view-versus-copy\n",
      "  app.launch_new_instance()\n"
     ]
    }
   ],
   "source": [
    "# first_affiliate_tracked\n",
    "\n",
    "# fill NaN values randomly\n",
    "count_first_affiliate = 7    # len(np.unique(airbnb_df[\"first_affiliate_tracked\"].value_counts()))\n",
    "\n",
    "count_nan_department_airbnb = airbnb_df[\"first_affiliate_tracked\"].isnull().sum()\n",
    "count_nan_department_test   = test_df[\"first_affiliate_tracked\"].isnull().sum()\n",
    "\n",
    "rand_1 = np.random.randint(0, count_first_affiliate, size = count_nan_department_airbnb)\n",
    "rand_2 = np.random.randint(0, count_first_affiliate, size = count_nan_department_test)\n",
    "\n",
    "range_departments_airbnb = airbnb_df['first_affiliate_tracked'].value_counts().index\n",
    "range_departments_test   = test_df['first_affiliate_tracked'].value_counts().index\n",
    "\n",
    "airbnb_df[\"first_affiliate_tracked\"][airbnb_df[\"first_affiliate_tracked\"] != airbnb_df[\"first_affiliate_tracked\"]] = range_departments_airbnb[rand_1]\n",
    "test_df[\"first_affiliate_tracked\"][test_df[\"first_affiliate_tracked\"] != test_df[\"first_affiliate_tracked\"]]       = range_departments_test[rand_2]\n",
    "\n",
    "# drop columns\n",
    "# airbnb_df.drop(['first_affiliate_tracked'], axis=1,inplace=True)\n",
    "# test_df.drop(['first_affiliate_tracked'], axis=1,inplace=True)"
   ]
  },
  {
   "cell_type": "code",
   "execution_count": 47,
   "metadata": {
    "collapsed": true
   },
   "outputs": [],
   "source": [
    "# signup_method\n",
    "airbnb_df[\"signup_method\"] = (airbnb_df[\"signup_method\"] == \"basic\").astype(int)\n",
    "test_df[\"signup_method\"]   = (test_df[\"signup_method\"] == \"basic\").astype(int)\n",
    "\n",
    "# signup_flow\n",
    "airbnb_df[\"signup_flow\"] = (airbnb_df[\"signup_flow\"] == 3).astype(int)\n",
    "test_df[\"signup_flow\"]   = (test_df[\"signup_flow\"] == 3).astype(int)\n",
    "\n",
    "# language\n",
    "airbnb_df[\"language\"] = (airbnb_df[\"language\"] == 'en').astype(int)\n",
    "test_df[\"language\"]   = (test_df[\"language\"] == 'en').astype(int)\n",
    "\n",
    "# affiliate_channel\n",
    "airbnb_df[\"affiliate_channel\"] = (airbnb_df[\"affiliate_channel\"] == 'direct').astype(int)\n",
    "test_df[\"affiliate_channel\"]   = (test_df[\"affiliate_channel\"] == 'direct').astype(int)\n",
    "\n",
    "# affiliate_provider\n",
    "airbnb_df[\"affiliate_provider\"] = (airbnb_df[\"affiliate_provider\"] == 'direct').astype(int)\n",
    "test_df[\"affiliate_provider\"]   = (test_df[\"affiliate_provider\"] == 'direct').astype(int)"
   ]
  },
  {
   "cell_type": "code",
   "execution_count": 48,
   "metadata": {
    "collapsed": true
   },
   "outputs": [],
   "source": [
    "# There are some columns with non-numerical values(i.e. dtype='object'),\n",
    "# So, We will create a corresponding unique numerical value for each non-numerical value in a column of training and testing set.\n",
    "\n",
    "from sklearn import preprocessing\n",
    "\n",
    "for f in airbnb_df.columns:\n",
    "    if f == \"country_destination\" or f == \"id\": continue\n",
    "    if airbnb_df[f].dtype == 'object':\n",
    "        lbl = preprocessing.LabelEncoder()\n",
    "        lbl.fit(np.unique(list(airbnb_df[f].values) + list(test_df[f].values)))\n",
    "        airbnb_df[f] = lbl.transform(list(airbnb_df[f].values))\n",
    "        test_df[f]   = lbl.transform(list(test_df[f].values))"
   ]
  },
  {
   "cell_type": "code",
   "execution_count": 49,
   "metadata": {},
   "outputs": [
    {
     "ename": "ValueError",
     "evalue": "Input contains NaN, infinity or a value too large for dtype('float64').",
     "output_type": "error",
     "traceback": [
      "\u001b[0;31m---------------------------------------------------------------------------\u001b[0m",
      "\u001b[0;31mValueError\u001b[0m                                Traceback (most recent call last)",
      "\u001b[0;32m<ipython-input-49-1a3d530d3588>\u001b[0m in \u001b[0;36m<module>\u001b[0;34m()\u001b[0m\n\u001b[1;32m     18\u001b[0m \u001b[0mlogreg\u001b[0m\u001b[0;34m.\u001b[0m\u001b[0mfit\u001b[0m\u001b[0;34m(\u001b[0m\u001b[0mX_train\u001b[0m\u001b[0;34m,\u001b[0m \u001b[0mY_train\u001b[0m\u001b[0;34m)\u001b[0m\u001b[0;34m\u001b[0m\u001b[0m\n\u001b[1;32m     19\u001b[0m \u001b[0;34m\u001b[0m\u001b[0m\n\u001b[0;32m---> 20\u001b[0;31m \u001b[0mY_pred\u001b[0m \u001b[0;34m=\u001b[0m \u001b[0mlogreg\u001b[0m\u001b[0;34m.\u001b[0m\u001b[0mpredict\u001b[0m\u001b[0;34m(\u001b[0m\u001b[0mX_test\u001b[0m\u001b[0;34m)\u001b[0m\u001b[0;34m\u001b[0m\u001b[0m\n\u001b[0m\u001b[1;32m     21\u001b[0m \u001b[0;34m\u001b[0m\u001b[0m\n\u001b[1;32m     22\u001b[0m \u001b[0mlogreg\u001b[0m\u001b[0;34m.\u001b[0m\u001b[0mscore\u001b[0m\u001b[0;34m(\u001b[0m\u001b[0mX_train\u001b[0m\u001b[0;34m,\u001b[0m \u001b[0mY_train\u001b[0m\u001b[0;34m)\u001b[0m\u001b[0;34m\u001b[0m\u001b[0m\n",
      "\u001b[0;32m~/anaconda3/lib/python3.6/site-packages/sklearn/linear_model/base.py\u001b[0m in \u001b[0;36mpredict\u001b[0;34m(self, X)\u001b[0m\n\u001b[1;32m    322\u001b[0m             \u001b[0mPredicted\u001b[0m \u001b[0;32mclass\u001b[0m \u001b[0mlabel\u001b[0m \u001b[0mper\u001b[0m \u001b[0msample\u001b[0m\u001b[0;34m.\u001b[0m\u001b[0;34m\u001b[0m\u001b[0m\n\u001b[1;32m    323\u001b[0m         \"\"\"\n\u001b[0;32m--> 324\u001b[0;31m         \u001b[0mscores\u001b[0m \u001b[0;34m=\u001b[0m \u001b[0mself\u001b[0m\u001b[0;34m.\u001b[0m\u001b[0mdecision_function\u001b[0m\u001b[0;34m(\u001b[0m\u001b[0mX\u001b[0m\u001b[0;34m)\u001b[0m\u001b[0;34m\u001b[0m\u001b[0m\n\u001b[0m\u001b[1;32m    325\u001b[0m         \u001b[0;32mif\u001b[0m \u001b[0mlen\u001b[0m\u001b[0;34m(\u001b[0m\u001b[0mscores\u001b[0m\u001b[0;34m.\u001b[0m\u001b[0mshape\u001b[0m\u001b[0;34m)\u001b[0m \u001b[0;34m==\u001b[0m \u001b[0;36m1\u001b[0m\u001b[0;34m:\u001b[0m\u001b[0;34m\u001b[0m\u001b[0m\n\u001b[1;32m    326\u001b[0m             \u001b[0mindices\u001b[0m \u001b[0;34m=\u001b[0m \u001b[0;34m(\u001b[0m\u001b[0mscores\u001b[0m \u001b[0;34m>\u001b[0m \u001b[0;36m0\u001b[0m\u001b[0;34m)\u001b[0m\u001b[0;34m.\u001b[0m\u001b[0mastype\u001b[0m\u001b[0;34m(\u001b[0m\u001b[0mnp\u001b[0m\u001b[0;34m.\u001b[0m\u001b[0mint\u001b[0m\u001b[0;34m)\u001b[0m\u001b[0;34m\u001b[0m\u001b[0m\n",
      "\u001b[0;32m~/anaconda3/lib/python3.6/site-packages/sklearn/linear_model/base.py\u001b[0m in \u001b[0;36mdecision_function\u001b[0;34m(self, X)\u001b[0m\n\u001b[1;32m    298\u001b[0m                                  \"yet\" % {'name': type(self).__name__})\n\u001b[1;32m    299\u001b[0m \u001b[0;34m\u001b[0m\u001b[0m\n\u001b[0;32m--> 300\u001b[0;31m         \u001b[0mX\u001b[0m \u001b[0;34m=\u001b[0m \u001b[0mcheck_array\u001b[0m\u001b[0;34m(\u001b[0m\u001b[0mX\u001b[0m\u001b[0;34m,\u001b[0m \u001b[0maccept_sparse\u001b[0m\u001b[0;34m=\u001b[0m\u001b[0;34m'csr'\u001b[0m\u001b[0;34m)\u001b[0m\u001b[0;34m\u001b[0m\u001b[0m\n\u001b[0m\u001b[1;32m    301\u001b[0m \u001b[0;34m\u001b[0m\u001b[0m\n\u001b[1;32m    302\u001b[0m         \u001b[0mn_features\u001b[0m \u001b[0;34m=\u001b[0m \u001b[0mself\u001b[0m\u001b[0;34m.\u001b[0m\u001b[0mcoef_\u001b[0m\u001b[0;34m.\u001b[0m\u001b[0mshape\u001b[0m\u001b[0;34m[\u001b[0m\u001b[0;36m1\u001b[0m\u001b[0;34m]\u001b[0m\u001b[0;34m\u001b[0m\u001b[0m\n",
      "\u001b[0;32m~/anaconda3/lib/python3.6/site-packages/sklearn/utils/validation.py\u001b[0m in \u001b[0;36mcheck_array\u001b[0;34m(array, accept_sparse, dtype, order, copy, force_all_finite, ensure_2d, allow_nd, ensure_min_samples, ensure_min_features, warn_on_dtype, estimator)\u001b[0m\n\u001b[1;32m    451\u001b[0m                              % (array.ndim, estimator_name))\n\u001b[1;32m    452\u001b[0m         \u001b[0;32mif\u001b[0m \u001b[0mforce_all_finite\u001b[0m\u001b[0;34m:\u001b[0m\u001b[0;34m\u001b[0m\u001b[0m\n\u001b[0;32m--> 453\u001b[0;31m             \u001b[0m_assert_all_finite\u001b[0m\u001b[0;34m(\u001b[0m\u001b[0marray\u001b[0m\u001b[0;34m)\u001b[0m\u001b[0;34m\u001b[0m\u001b[0m\n\u001b[0m\u001b[1;32m    454\u001b[0m \u001b[0;34m\u001b[0m\u001b[0m\n\u001b[1;32m    455\u001b[0m     \u001b[0mshape_repr\u001b[0m \u001b[0;34m=\u001b[0m \u001b[0m_shape_repr\u001b[0m\u001b[0;34m(\u001b[0m\u001b[0marray\u001b[0m\u001b[0;34m.\u001b[0m\u001b[0mshape\u001b[0m\u001b[0;34m)\u001b[0m\u001b[0;34m\u001b[0m\u001b[0m\n",
      "\u001b[0;32m~/anaconda3/lib/python3.6/site-packages/sklearn/utils/validation.py\u001b[0m in \u001b[0;36m_assert_all_finite\u001b[0;34m(X)\u001b[0m\n\u001b[1;32m     42\u001b[0m             and not np.isfinite(X).all()):\n\u001b[1;32m     43\u001b[0m         raise ValueError(\"Input contains NaN, infinity\"\n\u001b[0;32m---> 44\u001b[0;31m                          \" or a value too large for %r.\" % X.dtype)\n\u001b[0m\u001b[1;32m     45\u001b[0m \u001b[0;34m\u001b[0m\u001b[0m\n\u001b[1;32m     46\u001b[0m \u001b[0;34m\u001b[0m\u001b[0m\n",
      "\u001b[0;31mValueError\u001b[0m: Input contains NaN, infinity or a value too large for dtype('float64')."
     ]
    }
   ],
   "source": [
    "\n",
    "# define training and testing sets\n",
    "\n",
    "X_train = airbnb_df.drop([\"country_destination\", \"id\", 'booked'],axis=1)\n",
    "Y_train = airbnb_df[\"country_destination\"]\n",
    "X_test  = test_df.drop(\"id\",axis=1).copy()\n",
    "\n",
    "\n",
    "# modify country_destination to numerical values\n",
    "country_num_dic = {'NDF': 0, 'US': 1, 'other': 2, 'FR': 3, 'IT': 4, 'GB': 5, 'ES': 6, 'CA': 7, 'DE': 8, 'NL': 9, 'AU': 10, 'PT': 11}\n",
    "num_country_dic = {y:x for x,y in country_num_dic.items()}\n",
    "\n",
    "\n",
    "# Logistic Regression\n",
    "\n",
    "logreg = LogisticRegression()\n",
    "\n",
    "logreg.fit(X_train, Y_train)\n",
    "\n",
    "Y_pred = logreg.predict(X_test)\n",
    "\n",
    "logreg.score(X_train, Y_train)\n",
    "\n",
    "Y_train    = Y_train.map(country_num_dic)"
   ]
  },
  {
   "cell_type": "code",
   "execution_count": null,
   "metadata": {},
   "outputs": [],
   "source": [
    "# convert type to integer\n",
    "Y_pred = Y_pred.astype(int)\n",
    "\n",
    "# change values back to original country symbols\n",
    "Y_pred = Series(Y_pred).map(num_country_dic)"
   ]
  }
 ],
 "metadata": {
  "kernelspec": {
   "display_name": "Python 3",
   "language": "python",
   "name": "python3"
  },
  "language_info": {
   "codemirror_mode": {
    "name": "ipython",
    "version": 3
   },
   "file_extension": ".py",
   "mimetype": "text/x-python",
   "name": "python",
   "nbconvert_exporter": "python",
   "pygments_lexer": "ipython3",
   "version": "3.6.3"
  }
 },
 "nbformat": 4,
 "nbformat_minor": 2
}
